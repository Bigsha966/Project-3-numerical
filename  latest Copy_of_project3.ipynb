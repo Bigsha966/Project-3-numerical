{
  "nbformat": 4,
  "nbformat_minor": 0,
  "metadata": {
    "colab": {
      "name": "Copy of project3.ipynb",
      "provenance": [],
      "include_colab_link": true
    },
    "kernelspec": {
      "name": "python3",
      "display_name": "Python 3"
    }
  },
  "cells": [
    {
      "cell_type": "markdown",
      "metadata": {
        "id": "view-in-github",
        "colab_type": "text"
      },
      "source": [
        "<a href=\"https://colab.research.google.com/github/Bigsha966/Project-3-numerical/blob/main/%20latest%20Copy_of_project3.ipynb\" target=\"_parent\"><img src=\"https://colab.research.google.com/assets/colab-badge.svg\" alt=\"Open In Colab\"/></a>"
      ]
    },
    {
      "cell_type": "code",
      "metadata": {
        "id": "j2SZTbE5h3X7"
      },
      "source": [
        "import math\r\n",
        "Pi = math.pi                                                                                                     #Number Pi\r\n",
        "Sqrt2 = math.sqrt(2)                                                                                             #Number SQRT(2)\r\n",
        "Center = Pi/4                                                                                                    #Taylor Series Center, Able to Change at any Time, Integrated Throughout Program\r\n",
        "\r\n",
        "def TrueError(Estimate, Actual):                                                                                 #Defines True Error\r\n",
        "  return Actual - Estimate\r\n",
        "\r\n",
        "def RelativeTrueError(Estimate, Actual):                                                                         #Defines Relative True Error\r\n",
        "  return TrueError(Estimate, Actual) / Actual\r\n",
        "\r\n",
        "def ApproximateError(PreEstimate, CurEstimate):                                                                  #Defines Approximate Error\r\n",
        "  return CurEstimate - PreEstimate\r\n",
        "\r\n",
        "def RelativeApproximateError(PreEstimate, CurEstimate):                                                          #Defines Relative Approximate Error\r\n",
        "  return ApproximateError(PreEstimate, CurEstimate) / CurEstimate\r\n",
        "def GeneralTaylorCoefficient(Degree):                                                                            #Defines General Taylor Series\r\n",
        "  return (-1)**(math.floor(Degree/2))/(Sqrt2*math.factorial(Degree))\r\n",
        "\r\n",
        "def TaylorPolynomialTerm(Degree, Input):                                                                         #Defines Specific Term in Taylor Series\r\n",
        "  return GeneralTaylorCoefficient(Degree)*(Input-Center)**Degree\r\n",
        "\r\n",
        "def TaylorPolynomial(Degree, Input):                                                                             #Defines a Taylor Series, with a Specified Order, and Input\r\n",
        "  sum = 0\r\n",
        "  for i in range(0, Degree+1):\r\n",
        "    sum = sum +  TaylorPolynomialTerm(i, Input)\r\n",
        "  return sum\r\n",
        "\r\n",
        "def LagrangeCoefficient(InArray,OutArray,Entry,Variable):                                                        #Defines Lagrange Coefficient\r\n",
        "  lc = 1\r\n",
        "  for i in range(len(InArray)):\r\n",
        "    if i == Entry:\r\n",
        "      continue\r\n",
        "    else:\r\n",
        "      lc = lc*(Variable - InArray[i])/(InArray[Entry]-InArray[i])\r\n",
        "  return lc\r\n",
        "\r\n",
        "def LagrangeInterpolator(InArray, OutArray, Variable):                                                           #Defines LagrangeInterpolator\r\n",
        "  li = 0\r\n",
        "  for i in range(len(InArray)):\r\n",
        "    li = li + LagrangeCoefficient(InArray,OutArray,i,Variable)*OutArray[i]\r\n",
        "  return li\r\n",
        "\r\n",
        "InValues = [Center,Center+.1,2*Center]\r\n",
        "OutValues = [math.sin(x) for x in InValues]"
      ],
      "execution_count": null,
      "outputs": []
    },
    {
      "cell_type": "code",
      "metadata": {
        "id": "TOkNh1C9jkdf"
      },
      "source": [
        "def NewtonIterator(Function, Derivative, CurValue):\r\n",
        "  return CurValue - Function(CurValue)/Derivative(CurValue)"
      ],
      "execution_count": null,
      "outputs": []
    },
    {
      "cell_type": "code",
      "metadata": {
        "id": "I_aar6hTj487"
      },
      "source": [
        "def NewtonIterator,(Function, Derivative, IntValue, Tolerrance, MaxIterations):\r\n",
        "  x = IntValue\r\n",
        "  i = 10\r\n",
        "  while i <= MaxIterations:                                                                                        #for (i = 1; i <= MaxIterations; i++):\r\n",
        "    if Derivative == 0:\r\n",
        "      return 'Zero Derivative therefore No Solution'\r\n",
        "    if abs(Function(x)) < Tolerrance:\r\n",
        "      return [x,i]\r\n",
        "    x = NewtonIterator(Function, Derivative, x,Tolerrance, MaxIterations)\r\n",
        "    i = i + 1\r\n",
        "  return 'Max Iterations Exceeded'"
      ],
      "execution_count": null,
      "outputs": []
    },
    {
      "cell_type": "code",
      "metadata": {
        "id": "KPHy2Lr7xkVe"
      },
      "source": [
        "Newton(math.sin,math.cos,Pi/4,.00001,10)\r\n",
        "Newton(math.sin,math.cos,Pi/3,.00001,15)\r\n"
      ],
      "execution_count": null,
      "outputs": []
    },
    {
      "cell_type": "code",
      "metadata": {
        "colab": {
          "base_uri": "https://localhost:8080/",
          "height": 131
        },
        "id": "FAixm5PGxArR",
        "outputId": "9eda8bd0-89d7-4c1d-b997-b96575f61704"
      },
      "source": [
        "def seedValues (true,false)\r\n",
        "seedValues = [pi/1,pi/2,pi/3+.5,1,2,5,12,3*pi/4+.03,pi+.02]\r\n",
        "roots = []\r\n",
        "iterations = []\r\n",
        "for seed in seedValues:\r\n",
        "  if newton(math.sin,math.cos,seed,1e-5,10) != None:\r\n",
        "    roots.append(newton(math.sin,math.cos,seed,1e-5,10)[0])\r\n",
        "    iterations.append(newton(math.sin,math.cos,seed,1e-5,10)[1])\r\n",
        "  else:\r\n",
        "    roots.append('None Found')\r\n",
        "    iterations.append('>20')"
      ],
      "execution_count": null,
      "outputs": [
        {
          "output_type": "error",
          "ename": "SyntaxError",
          "evalue": "ignored",
          "traceback": [
            "\u001b[0;36m  File \u001b[0;32m\"<ipython-input-27-e8eed2b63bc8>\"\u001b[0;36m, line \u001b[0;32m1\u001b[0m\n\u001b[0;31m    def seedValues (true,false)\u001b[0m\n\u001b[0m                               ^\u001b[0m\n\u001b[0;31mSyntaxError\u001b[0m\u001b[0;31m:\u001b[0m invalid syntax\n"
          ]
        }
      ]
    },
    {
      "cell_type": "code",
      "metadata": {
        "colab": {
          "base_uri": "https://localhost:8080/",
          "height": 218
        },
        "id": "4xFwmyb1yAO3",
        "outputId": "04e34b33-56e7-4dde-87c4-417018b0ff09"
      },
      "source": [
        "import plotly.graph_objects as go\r\n",
        "from plotly.subplots import make_subplots\r\n",
        "\r\n",
        "fig = go.Figure(data=[go.Table(\r\n",
        "                header=dict(values=['Seeds', 'Roots', 'Iterations']),\r\n",
        "                 cells=dict(values = [seedValues,roots,iterations]))\r\n",
        "                     ])\r\n"
      ],
      "execution_count": null,
      "outputs": [
        {
          "output_type": "error",
          "ename": "NameError",
          "evalue": "ignored",
          "traceback": [
            "\u001b[0;31m---------------------------------------------------------------------------\u001b[0m",
            "\u001b[0;31mNameError\u001b[0m                                 Traceback (most recent call last)",
            "\u001b[0;32m<ipython-input-20-626d5ef460db>\u001b[0m in \u001b[0;36m<module>\u001b[0;34m()\u001b[0m\n\u001b[1;32m      4\u001b[0m fig = go.Figure(data=[go.Table(\n\u001b[1;32m      5\u001b[0m                 \u001b[0mheader\u001b[0m\u001b[0;34m=\u001b[0m\u001b[0mdict\u001b[0m\u001b[0;34m(\u001b[0m\u001b[0mvalues\u001b[0m\u001b[0;34m=\u001b[0m\u001b[0;34m[\u001b[0m\u001b[0;34m'Seeds'\u001b[0m\u001b[0;34m,\u001b[0m \u001b[0;34m'Roots'\u001b[0m\u001b[0;34m,\u001b[0m \u001b[0;34m'Iterations'\u001b[0m\u001b[0;34m]\u001b[0m\u001b[0;34m)\u001b[0m\u001b[0;34m,\u001b[0m\u001b[0;34m\u001b[0m\u001b[0;34m\u001b[0m\u001b[0m\n\u001b[0;32m----> 6\u001b[0;31m                  cells=dict(values = [seedValues,roots,iterations]))\n\u001b[0m\u001b[1;32m      7\u001b[0m                      ])\n",
            "\u001b[0;31mNameError\u001b[0m: name 'seedValues' is not defined"
          ]
        }
      ]
    },
    {
      "cell_type": "code",
      "metadata": {
        "id": "TmunfpOUyNAn"
      },
      "source": [
        "roots[-2]/pi\r\n"
      ],
      "execution_count": null,
      "outputs": []
    },
    {
      "cell_type": "markdown",
      "metadata": {
        "id": "IaQiRqAxtwBy"
      },
      "source": [
        "Secant method to find root of the function\r\n"
      ]
    },
    {
      "cell_type": "code",
      "metadata": {
        "colab": {
          "base_uri": "https://localhost:8080/",
          "height": 131
        },
        "id": "Dr3OKwl5uAm3",
        "outputId": "96c38982-c423-4d4e-ac4b-03ca52799ac0"
      },
      "source": [
        "def secant(function, OldValue, NewValue):\r\n",
        "  x = NewValue - function(NewValue)*(NewValue - OldValue)/(function(NewValue)-function(OValue))        \r\n",
        "  return x\r\n",
        "\r\n",
        "def secantMethod(function, 1stValue, 2ndValue, iterations):\r\n",
        "  x = [1stValue, 2ndValue]\r\n",
        "  for i in range(iterations):\r\n",
        "    x.append(secant(function,x[-4],x[-2]))\r\n",
        "  return x"
      ],
      "execution_count": null,
      "outputs": [
        {
          "output_type": "error",
          "ename": "SyntaxError",
          "evalue": "ignored",
          "traceback": [
            "\u001b[0;36m  File \u001b[0;32m\"<ipython-input-13-ba96fc9ee2fa>\"\u001b[0;36m, line \u001b[0;32m5\u001b[0m\n\u001b[0;31m    def secantMethod(function, 1stValue, 2ndValue, iterations):\u001b[0m\n\u001b[0m                               ^\u001b[0m\n\u001b[0;31mSyntaxError\u001b[0m\u001b[0;31m:\u001b[0m invalid syntax\n"
          ]
        }
      ]
    },
    {
      "cell_type": "code",
      "metadata": {
        "colab": {
          "base_uri": "https://localhost:8080/",
          "height": 235
        },
        "id": "DpxuF6_03HbQ",
        "outputId": "84346ec9-00d0-4669-fbcf-697145af5696"
      },
      "source": [
        "import matplotlib.pyplot as plt\r\n",
        "import numpy as np\r\n",
        "\r\n",
        "x = np.arange( -5,3,.001)\r\n",
        "plt.scatter(inputValues,outputValues)\r\n",
        "plt.plot(x,lagrangeInterpolator(inputValues,outputValues,x))\r\n",
        "#plt.plot(x, np.sin(x))\r\n",
        "plt.title('Graph of Lagrange Interpolator')\r\n",
        "plt.legend(['Lagrange Interpolator'])\r\n",
        "\r\n",
        "plt.show()"
      ],
      "execution_count": null,
      "outputs": [
        {
          "output_type": "error",
          "ename": "NameError",
          "evalue": "ignored",
          "traceback": [
            "\u001b[0;31m---------------------------------------------------------------------------\u001b[0m",
            "\u001b[0;31mNameError\u001b[0m                                 Traceback (most recent call last)",
            "\u001b[0;32m<ipython-input-28-daa0571e5fdf>\u001b[0m in \u001b[0;36m<module>\u001b[0;34m()\u001b[0m\n\u001b[1;32m      3\u001b[0m \u001b[0;34m\u001b[0m\u001b[0m\n\u001b[1;32m      4\u001b[0m \u001b[0mx\u001b[0m \u001b[0;34m=\u001b[0m \u001b[0mnp\u001b[0m\u001b[0;34m.\u001b[0m\u001b[0marange\u001b[0m\u001b[0;34m(\u001b[0m \u001b[0;34m-\u001b[0m\u001b[0;36m5\u001b[0m\u001b[0;34m,\u001b[0m\u001b[0;36m3\u001b[0m\u001b[0;34m,\u001b[0m\u001b[0;36m.001\u001b[0m\u001b[0;34m)\u001b[0m\u001b[0;34m\u001b[0m\u001b[0;34m\u001b[0m\u001b[0m\n\u001b[0;32m----> 5\u001b[0;31m \u001b[0mplt\u001b[0m\u001b[0;34m.\u001b[0m\u001b[0mscatter\u001b[0m\u001b[0;34m(\u001b[0m\u001b[0minputValues\u001b[0m\u001b[0;34m,\u001b[0m\u001b[0moutputValues\u001b[0m\u001b[0;34m)\u001b[0m\u001b[0;34m\u001b[0m\u001b[0;34m\u001b[0m\u001b[0m\n\u001b[0m\u001b[1;32m      6\u001b[0m \u001b[0mplt\u001b[0m\u001b[0;34m.\u001b[0m\u001b[0mplot\u001b[0m\u001b[0;34m(\u001b[0m\u001b[0mx\u001b[0m\u001b[0;34m,\u001b[0m\u001b[0mlagrangeInterpolator\u001b[0m\u001b[0;34m(\u001b[0m\u001b[0minputValues\u001b[0m\u001b[0;34m,\u001b[0m\u001b[0moutputValues\u001b[0m\u001b[0;34m,\u001b[0m\u001b[0mx\u001b[0m\u001b[0;34m)\u001b[0m\u001b[0;34m)\u001b[0m\u001b[0;34m\u001b[0m\u001b[0;34m\u001b[0m\u001b[0m\n\u001b[1;32m      7\u001b[0m \u001b[0;31m#plt.plot(x, np.sin(x))\u001b[0m\u001b[0;34m\u001b[0m\u001b[0;34m\u001b[0m\u001b[0;34m\u001b[0m\u001b[0m\n",
            "\u001b[0;31mNameError\u001b[0m: name 'inputValues' is not defined"
          ]
        }
      ]
    }
  ]
}